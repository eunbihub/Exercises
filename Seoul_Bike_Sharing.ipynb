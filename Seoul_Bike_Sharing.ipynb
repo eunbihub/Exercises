{
 "cells": [
  {
   "cell_type": "markdown",
   "id": "32c52653",
   "metadata": {},
   "source": [
    "#### 서울특별시 공공자전거 따릉이 데이터 전처리"
   ]
  },
  {
   "cell_type": "markdown",
   "id": "926c2cf7",
   "metadata": {},
   "source": [
    "#### Data Preprocessing\n",
    "- 여러 개의 파일을 하나로 합치기\n",
    "- 컬럼명 확인 및 통일\n",
    "- 데이터 확인 및 전처리"
   ]
  },
  {
   "cell_type": "code",
   "execution_count": 1,
   "id": "84ef0d5b",
   "metadata": {},
   "outputs": [],
   "source": [
    "import pandas as pd"
   ]
  },
  {
   "cell_type": "code",
   "execution_count": 2,
   "id": "03495ef2",
   "metadata": {},
   "outputs": [
    {
     "data": {
      "text/plain": [
       "['C:/Users/Owner/ML/test1\\\\공공자전거 이용정보(시간대별)_19.12_20.056.csv',\n",
       " 'C:/Users/Owner/ML/test1\\\\공공자전거 이용정보(시간대별)_20.06.csv',\n",
       " 'C:/Users/Owner/ML/test1\\\\공공자전거 이용정보(시간대별)_20.07.csv',\n",
       " 'C:/Users/Owner/ML/test1\\\\공공자전거 이용정보(시간대별)_20.08.csv',\n",
       " 'C:/Users/Owner/ML/test1\\\\공공자전거 이용정보(시간대별)_20.09.csv',\n",
       " 'C:/Users/Owner/ML/test1\\\\공공자전거 이용정보(시간대별)_20.10.csv',\n",
       " 'C:/Users/Owner/ML/test1\\\\공공자전거 이용정보(시간대별)_20.11.csv',\n",
       " 'C:/Users/Owner/ML/test1\\\\공공자전거 이용정보(시간대별)_20.12.csv',\n",
       " 'C:/Users/Owner/ML/test1\\\\공공자전거 이용정보(시간대별)_21.01.csv',\n",
       " 'C:/Users/Owner/ML/test1\\\\서울특별시 공공자전거 이용정보(시간대별)_2017년_1.csv',\n",
       " 'C:/Users/Owner/ML/test1\\\\서울특별시 공공자전거 이용정보(시간대별)_2017년_2.csv',\n",
       " 'C:/Users/Owner/ML/test1\\\\서울특별시 공공자전거 이용정보(시간대별)_2017년_3.csv',\n",
       " 'C:/Users/Owner/ML/test1\\\\서울특별시 공공자전거 이용정보(시간대별)_2017년_4.csv',\n",
       " 'C:/Users/Owner/ML/test1\\\\서울특별시 공공자전거 이용정보(시간대별)_2017년_5.csv',\n",
       " 'C:/Users/Owner/ML/test1\\\\서울특별시 공공자전거 이용정보(시간대별)_2017년_6.csv',\n",
       " 'C:/Users/Owner/ML/test1\\\\서울특별시 공공자전거 이용정보(시간대별)_20190601_20191130(10).csv',\n",
       " 'C:/Users/Owner/ML/test1\\\\서울특별시_공공자전거_시간대별_대여정보_201812_201905(6).csv']"
      ]
     },
     "execution_count": 2,
     "metadata": {},
     "output_type": "execute_result"
    }
   ],
   "source": [
    "# 여러 파일을 하나로 합치기\n",
    "filepath = 'C:/Users/Owner/ML/test1'\n",
    "from glob import glob\n",
    "glob(filepath + '/*.csv')"
   ]
  },
  {
   "cell_type": "code",
   "execution_count": 3,
   "id": "aab7106a",
   "metadata": {},
   "outputs": [],
   "source": [
    "all_path = glob(filepath + '/*.csv') + glob(filepath + '/*.xlsx')"
   ]
  },
  {
   "cell_type": "code",
   "execution_count": 4,
   "id": "73214daa",
   "metadata": {},
   "outputs": [
    {
     "data": {
      "text/plain": [
       "{\"'대여구분코드'\",\n",
       " \"'대여소'\",\n",
       " \"'대여소번호'\",\n",
       " \"'대여시간'\",\n",
       " \"'대여일자'\",\n",
       " \"'성별'\",\n",
       " \"'연령대코드'\",\n",
       " \"'운동량'\",\n",
       " \"'이동거리(M)'\",\n",
       " \"'이동시간(분)'\",\n",
       " \"'이용건수'\",\n",
       " \"'탄소량'\",\n",
       " '대여구분코드',\n",
       " '대여소명',\n",
       " '대여소번호',\n",
       " '대여시간',\n",
       " '대여일자',\n",
       " '사용시간',\n",
       " '성별',\n",
       " '연령대코드',\n",
       " '운동량',\n",
       " '이동거리',\n",
       " '이용건수',\n",
       " '탄소량'}"
      ]
     },
     "execution_count": 4,
     "metadata": {},
     "output_type": "execute_result"
    }
   ],
   "source": [
    "# 컬럼명 확인 - 맨 첫번째줄(컬럼)만 읽어서 리스트화\n",
    "all_cols = []\n",
    "\n",
    "for path in all_path:  \n",
    "    if '.csv' in path:   \n",
    "        cols = list(pd.read_csv(path, encoding = 'cp949', skiprows = lambda x : x>2).columns)\n",
    "    else:\n",
    "        list(pd.read_excel(path, skiprows = lambda x : x>2).columns)\n",
    "        \n",
    "    all_cols = all_cols + cols\n",
    "\n",
    "set(all_cols)"
   ]
  },
  {
   "cell_type": "code",
   "execution_count": 5,
   "id": "410df168",
   "metadata": {},
   "outputs": [],
   "source": [
    "# 원하는 컬럼만 추린 후, 컬럼명 통일\n",
    "reset_col = all_cols[:12] \n",
    "interested = ['대여일자', '대여시간', '대여구분코드', '성별', '연령대코드']\n",
    "all_df = pd.DataFrame()"
   ]
  },
  {
   "cell_type": "code",
   "execution_count": 6,
   "id": "37b21f7d",
   "metadata": {},
   "outputs": [
    {
     "name": "stdout",
     "output_type": "stream",
     "text": [
      "(6894866, 5)\n",
      "(9021414, 5)\n",
      "(11075414, 5)\n",
      "(12521408, 5)\n",
      "(14723496, 5)\n",
      "(17056262, 5)\n",
      "(18736090, 5)\n",
      "(19802991, 5)\n",
      "(20521848, 5)\n",
      "(21490899, 5)\n",
      "(22273457, 5)\n",
      "(22720838, 5)\n",
      "(23424291, 5)\n",
      "(24118884, 5)\n",
      "(24718080, 5)\n",
      "(25238730, 5)\n"
     ]
    },
    {
     "name": "stderr",
     "output_type": "stream",
     "text": [
      "C:\\Users\\Owner\\AppData\\Local\\Temp\\ipykernel_15312\\2037146650.py:3: DtypeWarning: Columns (8,9) have mixed types. Specify dtype option on import or set low_memory=False.\n",
      "  single = pd.read_csv(path, encoding = 'cp949')\n"
     ]
    },
    {
     "name": "stdout",
     "output_type": "stream",
     "text": [
      "(26263993, 5)\n",
      "(26565832, 5)\n",
      "(27470653, 5)\n",
      "(28177741, 5)\n",
      "(29074628, 5)\n",
      "(29809088, 5)\n",
      "(30460975, 5)\n"
     ]
    }
   ],
   "source": [
    "for path in all_path:\n",
    "    if '.csv' in path:\n",
    "        single = pd.read_csv(path, encoding = 'cp949')\n",
    "    else:\n",
    "        single = pd.read_excel(path)\n",
    "        \n",
    "    single.columns = reset_col \n",
    "    all_df = pd.concat([all_df, single[interested]]) \n",
    "    print(all_df.shape)\n",
    "    \n",
    "    del single"
   ]
  },
  {
   "cell_type": "code",
   "execution_count": 7,
   "id": "33c90fbe",
   "metadata": {},
   "outputs": [],
   "source": [
    "all_df.to_csv('test1_modified1.csv', index = False)"
   ]
  },
  {
   "cell_type": "code",
   "execution_count": 8,
   "id": "fe9aa98e",
   "metadata": {},
   "outputs": [
    {
     "name": "stderr",
     "output_type": "stream",
     "text": [
      "C:\\Users\\Owner\\AppData\\Local\\Temp\\ipykernel_15312\\2861308387.py:1: DtypeWarning: Columns (1) have mixed types. Specify dtype option on import or set low_memory=False.\n",
      "  df = pd.read_csv('test1_modified1.csv')\n"
     ]
    },
    {
     "data": {
      "text/html": [
       "<div>\n",
       "<style scoped>\n",
       "    .dataframe tbody tr th:only-of-type {\n",
       "        vertical-align: middle;\n",
       "    }\n",
       "\n",
       "    .dataframe tbody tr th {\n",
       "        vertical-align: top;\n",
       "    }\n",
       "\n",
       "    .dataframe thead th {\n",
       "        text-align: right;\n",
       "    }\n",
       "</style>\n",
       "<table border=\"1\" class=\"dataframe\">\n",
       "  <thead>\n",
       "    <tr style=\"text-align: right;\">\n",
       "      <th></th>\n",
       "      <th>대여일자</th>\n",
       "      <th>대여시간</th>\n",
       "      <th>대여구분코드</th>\n",
       "      <th>성별</th>\n",
       "      <th>연령대코드</th>\n",
       "    </tr>\n",
       "  </thead>\n",
       "  <tbody>\n",
       "    <tr>\n",
       "      <th>0</th>\n",
       "      <td>2019-12-01</td>\n",
       "      <td>0</td>\n",
       "      <td>정기권</td>\n",
       "      <td>NaN</td>\n",
       "      <td>~10대</td>\n",
       "    </tr>\n",
       "    <tr>\n",
       "      <th>1</th>\n",
       "      <td>2019-12-01</td>\n",
       "      <td>0</td>\n",
       "      <td>정기권</td>\n",
       "      <td>NaN</td>\n",
       "      <td>~10대</td>\n",
       "    </tr>\n",
       "    <tr>\n",
       "      <th>2</th>\n",
       "      <td>2019-12-01</td>\n",
       "      <td>0</td>\n",
       "      <td>정기권</td>\n",
       "      <td>NaN</td>\n",
       "      <td>~10대</td>\n",
       "    </tr>\n",
       "    <tr>\n",
       "      <th>3</th>\n",
       "      <td>2019-12-01</td>\n",
       "      <td>0</td>\n",
       "      <td>정기권</td>\n",
       "      <td>NaN</td>\n",
       "      <td>~10대</td>\n",
       "    </tr>\n",
       "    <tr>\n",
       "      <th>4</th>\n",
       "      <td>2019-12-01</td>\n",
       "      <td>0</td>\n",
       "      <td>정기권</td>\n",
       "      <td>NaN</td>\n",
       "      <td>~10대</td>\n",
       "    </tr>\n",
       "  </tbody>\n",
       "</table>\n",
       "</div>"
      ],
      "text/plain": [
       "         대여일자 대여시간 대여구분코드   성별 연령대코드\n",
       "0  2019-12-01    0    정기권  NaN  ~10대\n",
       "1  2019-12-01    0    정기권  NaN  ~10대\n",
       "2  2019-12-01    0    정기권  NaN  ~10대\n",
       "3  2019-12-01    0    정기권  NaN  ~10대\n",
       "4  2019-12-01    0    정기권  NaN  ~10대"
      ]
     },
     "execution_count": 8,
     "metadata": {},
     "output_type": "execute_result"
    }
   ],
   "source": [
    "df = pd.read_csv('test1_modified1.csv')\n",
    "df.head()"
   ]
  },
  {
   "cell_type": "code",
   "execution_count": 9,
   "id": "2bd820c3",
   "metadata": {},
   "outputs": [
    {
     "name": "stdout",
     "output_type": "stream",
     "text": [
      "{\"'일일(회원)'\", \"'정기(2시간권)'\", '일일권(비회원)', '단체권', \"'정기'\", \"'일일(2시간권)'\", '일일권', '정기권', '단기권(전기)', \"'일일(비회원)'\", \"'단체'\"}\n",
      "{nan, \"''\", \"'M'\", 'M', \"'F'\", 'm', 'f', 'F'}\n",
      "{nan, \"'70대~'\", '20대', \"'30대'\", \"'50대'\", \"'60대'\", '40대', \"'20대'\", '~10대', \"'~10대'\", '70대~', '50대', \"'40대'\", '30대', '60대'}\n"
     ]
    }
   ],
   "source": [
    "# 값 확인\n",
    "print(set(df['대여구분코드']))\n",
    "print(set(df['성별']))\n",
    "print(set(df['연령대코드']))"
   ]
  },
  {
   "cell_type": "code",
   "execution_count": 10,
   "id": "4d57b44d",
   "metadata": {},
   "outputs": [
    {
     "data": {
      "text/plain": [
       "{\"'20대'\",\n",
       " \"'30대'\",\n",
       " \"'40대'\",\n",
       " \"'50대'\",\n",
       " \"'60대'\",\n",
       " \"'70대~'\",\n",
       " \"'~10대'\",\n",
       " '20대',\n",
       " '30대',\n",
       " '40대',\n",
       " '50대',\n",
       " '60대',\n",
       " '70대~',\n",
       " 'nan',\n",
       " '~10대'}"
      ]
     },
     "execution_count": 10,
     "metadata": {},
     "output_type": "execute_result"
    }
   ],
   "source": [
    "# 값들이 공통화되어 있지 않다.\n",
    "# 연령대 코드: 문자열 처리 후 따옴표 제거\n",
    "df['연령대코드']  = df['연령대코드'].apply(lambda x : str(x))\n",
    "set(df['연령대코드'])"
   ]
  },
  {
   "cell_type": "code",
   "execution_count": 11,
   "id": "dadee600",
   "metadata": {},
   "outputs": [],
   "source": [
    "for col in df.columns:\n",
    "    df[col] = df[col].apply(lambda x : str(x).replace('\\'', ''))"
   ]
  },
  {
   "cell_type": "code",
   "execution_count": 12,
   "id": "da25b3d8",
   "metadata": {},
   "outputs": [
    {
     "data": {
      "text/plain": [
       "{'20대', '30대', '40대', '50대', '60대', '70대~', 'nan', '~10대'}"
      ]
     },
     "execution_count": 12,
     "metadata": {},
     "output_type": "execute_result"
    }
   ],
   "source": [
    "set(df['연령대코드'])"
   ]
  },
  {
   "cell_type": "code",
   "execution_count": 13,
   "id": "7e018a58",
   "metadata": {},
   "outputs": [
    {
     "data": {
      "text/plain": [
       "{'10s', '20s', '30s', '40s', '50s', '60s', '70s', 'unknown'}"
      ]
     },
     "execution_count": 13,
     "metadata": {},
     "output_type": "execute_result"
    }
   ],
   "source": [
    "# 매핑을 통해 '대'->'s', 결측치->unknown으로 바꾸기\n",
    "mapper = {'20대' : '20s', \n",
    "          '30대' : '30s',\n",
    "          '40대' : '40s',\n",
    "          '50대' : '50s',\n",
    "          '60대' : '60s',\n",
    "          '70대~' : '70s',\n",
    "          'nan' : 'unknown',\n",
    "          '~10대' : '10s'}\n",
    "\n",
    "df['age'] = df['연령대코드'].map(mapper)\n",
    "set(df['age'])"
   ]
  },
  {
   "cell_type": "code",
   "execution_count": 14,
   "id": "ea65115b",
   "metadata": {},
   "outputs": [
    {
     "data": {
      "text/plain": [
       "{'', 'F', 'M', 'f', 'm', 'nan'}"
      ]
     },
     "execution_count": 14,
     "metadata": {},
     "output_type": "execute_result"
    }
   ],
   "source": [
    "# 성별: 세 가지 경우의 수로 나누기\n",
    "set(df['성별'])"
   ]
  },
  {
   "cell_type": "code",
   "execution_count": 15,
   "id": "97ddd31d",
   "metadata": {},
   "outputs": [
    {
     "data": {
      "text/plain": [
       "{'F', 'M', 'U'}"
      ]
     },
     "execution_count": 15,
     "metadata": {},
     "output_type": "execute_result"
    }
   ],
   "source": [
    "mapper = {'' : 'U', \n",
    "          'F' : 'F', \n",
    "          'M' : 'M', \n",
    "          '\\\\N' : 'U', \n",
    "          'f' : 'F',\n",
    "          'm' : 'M',\n",
    "          'nan' : 'U'}\n",
    "df['gender'] = df['성별'].map(mapper)\n",
    "set(df['gender'])"
   ]
  },
  {
   "cell_type": "code",
   "execution_count": 16,
   "id": "ca5211d6",
   "metadata": {},
   "outputs": [
    {
     "data": {
      "text/plain": [
       "{'단기권(전기)',\n",
       " '단체',\n",
       " '단체권',\n",
       " '일일(2시간권)',\n",
       " '일일(비회원)',\n",
       " '일일(회원)',\n",
       " '일일권',\n",
       " '일일권(비회원)',\n",
       " '정기',\n",
       " '정기(2시간권)',\n",
       " '정기권'}"
      ]
     },
     "execution_count": 16,
     "metadata": {},
     "output_type": "execute_result"
    }
   ],
   "source": [
    "# 대여구분코드: 세 가지 경우의 수로 나누기\n",
    "set(df['대여구분코드'])"
   ]
  },
  {
   "cell_type": "code",
   "execution_count": 17,
   "id": "199cdb29",
   "metadata": {},
   "outputs": [
    {
     "data": {
      "text/plain": [
       "{'casual', 'group', 'regular'}"
      ]
     },
     "execution_count": 17,
     "metadata": {},
     "output_type": "execute_result"
    }
   ],
   "source": [
    "mapper = {'단기권(전기)' : 'casual',\n",
    "         '단체' : 'group',\n",
    "         '단체권' : 'group',\n",
    "         '일일(2시간권)' : 'casual',\n",
    "         '일일(비회원)' : 'casual',\n",
    "         '일일(회원)' : 'casual',\n",
    "         '일일권' : 'casual',\n",
    "         '일일권(비회원)' : 'casual',\n",
    "         '정기' : 'regular',\n",
    "         '정기(2시간권)' : 'regular',\n",
    "         '정기권' : 'regular'}\n",
    "\n",
    "df['type'] = df['대여구분코드'].map(mapper)\n",
    "set(df['type'])"
   ]
  },
  {
   "cell_type": "code",
   "execution_count": 18,
   "id": "3f2aabfb",
   "metadata": {},
   "outputs": [],
   "source": [
    "# 대여일자의 규격은 yyyy-mm-dd를 따르고 있을까?\n",
    "# 시간 정보는 hh:mm:ss 로 표현하고 있을까?"
   ]
  },
  {
   "cell_type": "code",
   "execution_count": 19,
   "id": "7125dd90",
   "metadata": {},
   "outputs": [
    {
     "data": {
      "text/plain": [
       "{'0',\n",
       " '00',\n",
       " '01',\n",
       " '02',\n",
       " '03',\n",
       " '04',\n",
       " '05',\n",
       " '06',\n",
       " '07',\n",
       " '08',\n",
       " '09',\n",
       " '1',\n",
       " '10',\n",
       " '11',\n",
       " '12',\n",
       " '13',\n",
       " '14',\n",
       " '15',\n",
       " '16',\n",
       " '17',\n",
       " '18',\n",
       " '19',\n",
       " '2',\n",
       " '20',\n",
       " '21',\n",
       " '22',\n",
       " '23',\n",
       " '3',\n",
       " '4',\n",
       " '5',\n",
       " '6',\n",
       " '7',\n",
       " '8',\n",
       " '9'}"
      ]
     },
     "execution_count": 19,
     "metadata": {},
     "output_type": "execute_result"
    }
   ],
   "source": [
    "set(df['대여시간'])"
   ]
  },
  {
   "cell_type": "code",
   "execution_count": 20,
   "id": "e18343d0",
   "metadata": {},
   "outputs": [
    {
     "data": {
      "text/plain": [
       "{'00',\n",
       " '01',\n",
       " '02',\n",
       " '03',\n",
       " '04',\n",
       " '05',\n",
       " '06',\n",
       " '07',\n",
       " '08',\n",
       " '09',\n",
       " '10',\n",
       " '11',\n",
       " '12',\n",
       " '13',\n",
       " '14',\n",
       " '15',\n",
       " '16',\n",
       " '17',\n",
       " '18',\n",
       " '19',\n",
       " '20',\n",
       " '21',\n",
       " '22',\n",
       " '23'}"
      ]
     },
     "execution_count": 20,
     "metadata": {},
     "output_type": "execute_result"
    }
   ],
   "source": [
    "# 한자리수는 0n의 형태로 만들기-앞에 0을 붙인 후 뒤에서 두 자리만 가져온다.\n",
    "df['대여시간'] = df['대여시간'].apply(lambda x : str('0' + x)[-2:])\n",
    "set(df['대여시간'])"
   ]
  },
  {
   "cell_type": "code",
   "execution_count": 21,
   "id": "66c74e51",
   "metadata": {},
   "outputs": [
    {
     "data": {
      "text/plain": [
       "0                    2019-12-01\n",
       "1                    2019-12-01\n",
       "2                    2019-12-01\n",
       "3                    2019-12-01\n",
       "4                    2019-12-01\n",
       "                   ...         \n",
       "30460970    2018-08-31 00:00:00\n",
       "30460971    2018-08-31 00:00:00\n",
       "30460972    2018-08-31 00:00:00\n",
       "30460973    2018-08-31 00:00:00\n",
       "30460974    2018-08-31 00:00:00\n",
       "Name: 대여일자, Length: 30460975, dtype: object"
      ]
     },
     "execution_count": 21,
     "metadata": {},
     "output_type": "execute_result"
    }
   ],
   "source": [
    "df['대여일자']"
   ]
  },
  {
   "cell_type": "code",
   "execution_count": 22,
   "id": "7d213786",
   "metadata": {},
   "outputs": [
    {
     "data": {
      "text/plain": [
       "{10, 19}"
      ]
     },
     "execution_count": 22,
     "metadata": {},
     "output_type": "execute_result"
    }
   ],
   "source": [
    "set(df['대여일자'].apply(lambda x : len(x)))"
   ]
  },
  {
   "cell_type": "code",
   "execution_count": 23,
   "id": "18043cba",
   "metadata": {},
   "outputs": [
    {
     "data": {
      "text/plain": [
       "{10}"
      ]
     },
     "execution_count": 23,
     "metadata": {},
     "output_type": "execute_result"
    }
   ],
   "source": [
    "# 10인 경우의 수만 존재하도록 함\n",
    "df['대여일자'] = df['대여일자'].apply(lambda x : x[:10])\n",
    "set(df['대여일자'].apply(lambda x : len(x)))"
   ]
  },
  {
   "cell_type": "code",
   "execution_count": 24,
   "id": "8c5abd57",
   "metadata": {},
   "outputs": [
    {
     "data": {
      "text/plain": [
       "{'2017', '2018', '2019', '2020', '2021'}"
      ]
     },
     "execution_count": 24,
     "metadata": {},
     "output_type": "execute_result"
    }
   ],
   "source": [
    "set(df['대여일자'].apply(lambda x : x[:4]))"
   ]
  },
  {
   "cell_type": "code",
   "execution_count": 25,
   "id": "c112fc2a",
   "metadata": {},
   "outputs": [
    {
     "data": {
      "text/plain": [
       "{'01', '02', '03', '04', '05', '06', '07', '08', '09', '10', '11', '12'}"
      ]
     },
     "execution_count": 25,
     "metadata": {},
     "output_type": "execute_result"
    }
   ],
   "source": [
    "set(df['대여일자'].apply(lambda x : x[5:7]))\n",
    "\n",
    "# year, month 형식은 잘 정리되어 있다."
   ]
  },
  {
   "cell_type": "code",
   "execution_count": 26,
   "id": "2f603d96",
   "metadata": {},
   "outputs": [
    {
     "data": {
      "text/html": [
       "<div>\n",
       "<style scoped>\n",
       "    .dataframe tbody tr th:only-of-type {\n",
       "        vertical-align: middle;\n",
       "    }\n",
       "\n",
       "    .dataframe tbody tr th {\n",
       "        vertical-align: top;\n",
       "    }\n",
       "\n",
       "    .dataframe thead th {\n",
       "        text-align: right;\n",
       "    }\n",
       "</style>\n",
       "<table border=\"1\" class=\"dataframe\">\n",
       "  <thead>\n",
       "    <tr style=\"text-align: right;\">\n",
       "      <th></th>\n",
       "      <th>대여일자</th>\n",
       "      <th>대여시간</th>\n",
       "      <th>대여구분코드</th>\n",
       "      <th>성별</th>\n",
       "      <th>연령대코드</th>\n",
       "      <th>age</th>\n",
       "      <th>gender</th>\n",
       "      <th>type</th>\n",
       "      <th>datetime</th>\n",
       "    </tr>\n",
       "  </thead>\n",
       "  <tbody>\n",
       "    <tr>\n",
       "      <th>0</th>\n",
       "      <td>2019-12-01</td>\n",
       "      <td>00</td>\n",
       "      <td>정기권</td>\n",
       "      <td>nan</td>\n",
       "      <td>~10대</td>\n",
       "      <td>10s</td>\n",
       "      <td>U</td>\n",
       "      <td>regular</td>\n",
       "      <td>2019-12-01 00:00:00</td>\n",
       "    </tr>\n",
       "    <tr>\n",
       "      <th>1</th>\n",
       "      <td>2019-12-01</td>\n",
       "      <td>00</td>\n",
       "      <td>정기권</td>\n",
       "      <td>nan</td>\n",
       "      <td>~10대</td>\n",
       "      <td>10s</td>\n",
       "      <td>U</td>\n",
       "      <td>regular</td>\n",
       "      <td>2019-12-01 00:00:00</td>\n",
       "    </tr>\n",
       "    <tr>\n",
       "      <th>2</th>\n",
       "      <td>2019-12-01</td>\n",
       "      <td>00</td>\n",
       "      <td>정기권</td>\n",
       "      <td>nan</td>\n",
       "      <td>~10대</td>\n",
       "      <td>10s</td>\n",
       "      <td>U</td>\n",
       "      <td>regular</td>\n",
       "      <td>2019-12-01 00:00:00</td>\n",
       "    </tr>\n",
       "    <tr>\n",
       "      <th>3</th>\n",
       "      <td>2019-12-01</td>\n",
       "      <td>00</td>\n",
       "      <td>정기권</td>\n",
       "      <td>nan</td>\n",
       "      <td>~10대</td>\n",
       "      <td>10s</td>\n",
       "      <td>U</td>\n",
       "      <td>regular</td>\n",
       "      <td>2019-12-01 00:00:00</td>\n",
       "    </tr>\n",
       "    <tr>\n",
       "      <th>4</th>\n",
       "      <td>2019-12-01</td>\n",
       "      <td>00</td>\n",
       "      <td>정기권</td>\n",
       "      <td>nan</td>\n",
       "      <td>~10대</td>\n",
       "      <td>10s</td>\n",
       "      <td>U</td>\n",
       "      <td>regular</td>\n",
       "      <td>2019-12-01 00:00:00</td>\n",
       "    </tr>\n",
       "  </tbody>\n",
       "</table>\n",
       "</div>"
      ],
      "text/plain": [
       "         대여일자 대여시간 대여구분코드   성별 연령대코드  age gender     type             datetime\n",
       "0  2019-12-01   00    정기권  nan  ~10대  10s      U  regular  2019-12-01 00:00:00\n",
       "1  2019-12-01   00    정기권  nan  ~10대  10s      U  regular  2019-12-01 00:00:00\n",
       "2  2019-12-01   00    정기권  nan  ~10대  10s      U  regular  2019-12-01 00:00:00\n",
       "3  2019-12-01   00    정기권  nan  ~10대  10s      U  regular  2019-12-01 00:00:00\n",
       "4  2019-12-01   00    정기권  nan  ~10대  10s      U  regular  2019-12-01 00:00:00"
      ]
     },
     "execution_count": 26,
     "metadata": {},
     "output_type": "execute_result"
    }
   ],
   "source": [
    "# yyyy-mm-dd hh-mm-ss의 형식으로 처리하였다.\n",
    "df['datetime'] = df['대여일자'] + ' ' + df['대여시간'] + ':00:00'\n",
    "df.head()"
   ]
  }
 ],
 "metadata": {
  "kernelspec": {
   "display_name": "Python 3 (ipykernel)",
   "language": "python",
   "name": "python3"
  },
  "language_info": {
   "codemirror_mode": {
    "name": "ipython",
    "version": 3
   },
   "file_extension": ".py",
   "mimetype": "text/x-python",
   "name": "python",
   "nbconvert_exporter": "python",
   "pygments_lexer": "ipython3",
   "version": "3.9.13"
  }
 },
 "nbformat": 4,
 "nbformat_minor": 5
}
